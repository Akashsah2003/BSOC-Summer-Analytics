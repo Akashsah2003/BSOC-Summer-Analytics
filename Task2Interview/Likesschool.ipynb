{
 "cells": [
  {
   "cell_type": "markdown",
   "id": "4a21af43",
   "metadata": {},
   "source": [
    "# Predicting if a child enjoys school\n",
    "\n",
    "### Used Columns\n",
    "#### TA3: Test child: Ever school, TA4: Test child: Class, TA6: Test child: Teacher nice, TA8B:  Test: Reading level, TA9B: Test: Math level, TA10B: Test: Writing level, CS4: School type, CS5: School distance (Km), CS6: Standard (years) <1=0, CS7: Course of study if above 10 standard, CS8: Medium of instruction, CS9: Year English taught, CS10: School hours/week, CS11: Homework hours/week, CS13: Days/month absent\n",
    "\n",
    "### Target Variable - TA5: Test child: Enjoys school\n"
   ]
  },
  {
   "cell_type": "code",
   "execution_count": 1,
   "id": "69d697d1",
   "metadata": {},
   "outputs": [],
   "source": [
    "import pandas as pd\n",
    "import numpy as np\n",
    "from matplotlib import pyplot as plt"
   ]
  },
  {
   "cell_type": "markdown",
   "id": "94e10d5a",
   "metadata": {},
   "source": [
    "# Preprocessing"
   ]
  },
  {
   "cell_type": "code",
   "execution_count": 2,
   "id": "6cd3a198",
   "metadata": {},
   "outputs": [
    {
     "name": "stderr",
     "output_type": "stream",
     "text": [
      "C:\\Users\\AKASH KUMAR SAH\\AppData\\Local\\Temp\\ipykernel_42528\\1225700478.py:1: DtypeWarning: Columns (0,6,9,10,11,12,13,14,15,16,17,18,22,27,29,33,34,39,44,48,49,51,52,53,54,55,56,57,58,59,60,61,62,63,64,65,66,74,75,76,78,79,80,88,91,105,150,151,152,154,158,159,166,168,169,170,171,172,173,174,175,176,177,178,179,180,181,182,183,184,185,186,187,194,196,197,198,199,200,201,202,203,204,205,217,218,219,220,221,222,223,224,225,226,227,228,229,230,234,235,236,237,240,241,243,245,247,248,249,250,275,279,283,287,288,289,290,291,294,295,296,297,298,299,300,301,302,303,304,305,306,307,308,309,310,311,312,313,314,315,316,317,318,320,322,334) have mixed types. Specify dtype option on import or set low_memory=False.\n",
      "  data = pd.read_csv('Data.tsv', delimiter='\\t')\n"
     ]
    }
   ],
   "source": [
    "data = pd.read_csv('Data.tsv', delimiter='\\t')"
   ]
  },
  {
   "cell_type": "code",
   "execution_count": 3,
   "id": "1ce5cbf2",
   "metadata": {},
   "outputs": [
    {
     "data": {
      "text/html": [
       "<div>\n",
       "<style scoped>\n",
       "    .dataframe tbody tr th:only-of-type {\n",
       "        vertical-align: middle;\n",
       "    }\n",
       "\n",
       "    .dataframe tbody tr th {\n",
       "        vertical-align: top;\n",
       "    }\n",
       "\n",
       "    .dataframe thead th {\n",
       "        text-align: right;\n",
       "    }\n",
       "</style>\n",
       "<table border=\"1\" class=\"dataframe\">\n",
       "  <thead>\n",
       "    <tr style=\"text-align: right;\">\n",
       "      <th></th>\n",
       "      <th>SURVEY</th>\n",
       "      <th>STATEID</th>\n",
       "      <th>DISTID</th>\n",
       "      <th>PSUID</th>\n",
       "      <th>HHID</th>\n",
       "      <th>HHSPLITID</th>\n",
       "      <th>PERSONID</th>\n",
       "      <th>IDPSU</th>\n",
       "      <th>IDHH</th>\n",
       "      <th>IDPERSON</th>\n",
       "      <th>...</th>\n",
       "      <th>MG8</th>\n",
       "      <th>MG9NM</th>\n",
       "      <th>MG10</th>\n",
       "      <th>MG11</th>\n",
       "      <th>MGYEAR5</th>\n",
       "      <th>NMIG5</th>\n",
       "      <th>MGMONTHS5</th>\n",
       "      <th>MGYEAR1</th>\n",
       "      <th>NMIG1</th>\n",
       "      <th>MGMONTHS1</th>\n",
       "    </tr>\n",
       "  </thead>\n",
       "  <tbody>\n",
       "    <tr>\n",
       "      <th>0</th>\n",
       "      <td>2</td>\n",
       "      <td>1</td>\n",
       "      <td>2</td>\n",
       "      <td>1</td>\n",
       "      <td>10</td>\n",
       "      <td>1</td>\n",
       "      <td>1</td>\n",
       "      <td>10201</td>\n",
       "      <td>102010101</td>\n",
       "      <td>10201010101</td>\n",
       "      <td>...</td>\n",
       "      <td></td>\n",
       "      <td></td>\n",
       "      <td></td>\n",
       "      <td></td>\n",
       "      <td>0</td>\n",
       "      <td></td>\n",
       "      <td></td>\n",
       "      <td>0</td>\n",
       "      <td></td>\n",
       "      <td></td>\n",
       "    </tr>\n",
       "    <tr>\n",
       "      <th>1</th>\n",
       "      <td>2</td>\n",
       "      <td>1</td>\n",
       "      <td>2</td>\n",
       "      <td>1</td>\n",
       "      <td>10</td>\n",
       "      <td>1</td>\n",
       "      <td>2</td>\n",
       "      <td>10201</td>\n",
       "      <td>102010101</td>\n",
       "      <td>10201010102</td>\n",
       "      <td>...</td>\n",
       "      <td></td>\n",
       "      <td></td>\n",
       "      <td></td>\n",
       "      <td></td>\n",
       "      <td>0</td>\n",
       "      <td></td>\n",
       "      <td></td>\n",
       "      <td>0</td>\n",
       "      <td></td>\n",
       "      <td></td>\n",
       "    </tr>\n",
       "    <tr>\n",
       "      <th>2</th>\n",
       "      <td>2</td>\n",
       "      <td>1</td>\n",
       "      <td>2</td>\n",
       "      <td>1</td>\n",
       "      <td>10</td>\n",
       "      <td>1</td>\n",
       "      <td>3</td>\n",
       "      <td>10201</td>\n",
       "      <td>102010101</td>\n",
       "      <td>10201010103</td>\n",
       "      <td>...</td>\n",
       "      <td></td>\n",
       "      <td></td>\n",
       "      <td></td>\n",
       "      <td></td>\n",
       "      <td>0</td>\n",
       "      <td></td>\n",
       "      <td></td>\n",
       "      <td>0</td>\n",
       "      <td></td>\n",
       "      <td></td>\n",
       "    </tr>\n",
       "    <tr>\n",
       "      <th>3</th>\n",
       "      <td>2</td>\n",
       "      <td>1</td>\n",
       "      <td>2</td>\n",
       "      <td>1</td>\n",
       "      <td>10</td>\n",
       "      <td>1</td>\n",
       "      <td>4</td>\n",
       "      <td>10201</td>\n",
       "      <td>102010101</td>\n",
       "      <td>10201010104</td>\n",
       "      <td>...</td>\n",
       "      <td></td>\n",
       "      <td></td>\n",
       "      <td></td>\n",
       "      <td></td>\n",
       "      <td>0</td>\n",
       "      <td></td>\n",
       "      <td></td>\n",
       "      <td>0</td>\n",
       "      <td></td>\n",
       "      <td></td>\n",
       "    </tr>\n",
       "    <tr>\n",
       "      <th>4</th>\n",
       "      <td>2</td>\n",
       "      <td>1</td>\n",
       "      <td>2</td>\n",
       "      <td>1</td>\n",
       "      <td>10</td>\n",
       "      <td>1</td>\n",
       "      <td>5</td>\n",
       "      <td>10201</td>\n",
       "      <td>102010101</td>\n",
       "      <td>10201010105</td>\n",
       "      <td>...</td>\n",
       "      <td></td>\n",
       "      <td></td>\n",
       "      <td></td>\n",
       "      <td></td>\n",
       "      <td>0</td>\n",
       "      <td></td>\n",
       "      <td></td>\n",
       "      <td>0</td>\n",
       "      <td></td>\n",
       "      <td></td>\n",
       "    </tr>\n",
       "  </tbody>\n",
       "</table>\n",
       "<p>5 rows × 337 columns</p>\n",
       "</div>"
      ],
      "text/plain": [
       "  SURVEY  STATEID  DISTID  PSUID  HHID  HHSPLITID PERSONID  IDPSU       IDHH  \\\n",
       "0      2        1       2      1    10          1        1  10201  102010101   \n",
       "1      2        1       2      1    10          1        2  10201  102010101   \n",
       "2      2        1       2      1    10          1        3  10201  102010101   \n",
       "3      2        1       2      1    10          1        4  10201  102010101   \n",
       "4      2        1       2      1    10          1        5  10201  102010101   \n",
       "\n",
       "      IDPERSON  ... MG8 MG9NM MG10 MG11 MGYEAR5 NMIG5 MGMONTHS5 MGYEAR1 NMIG1  \\\n",
       "0  10201010101  ...                           0                       0         \n",
       "1  10201010102  ...                           0                       0         \n",
       "2  10201010103  ...                           0                       0         \n",
       "3  10201010104  ...                           0                       0         \n",
       "4  10201010105  ...                           0                       0         \n",
       "\n",
       "  MGMONTHS1  \n",
       "0            \n",
       "1            \n",
       "2            \n",
       "3            \n",
       "4            \n",
       "\n",
       "[5 rows x 337 columns]"
      ]
     },
     "execution_count": 3,
     "metadata": {},
     "output_type": "execute_result"
    }
   ],
   "source": [
    "data.head()"
   ]
  },
  {
   "cell_type": "code",
   "execution_count": 4,
   "id": "46bac977",
   "metadata": {},
   "outputs": [
    {
     "name": "stdout",
     "output_type": "stream",
     "text": [
      "<class 'pandas.core.frame.DataFrame'>\n",
      "RangeIndex: 204569 entries, 0 to 204568\n",
      "Columns: 337 entries, SURVEY to MGMONTHS1\n",
      "dtypes: int64(9), object(328)\n",
      "memory usage: 526.0+ MB\n"
     ]
    }
   ],
   "source": [
    "data.info()"
   ]
  },
  {
   "cell_type": "code",
   "execution_count": 5,
   "id": "ae8f1613",
   "metadata": {},
   "outputs": [],
   "source": [
    "data = data.loc[:, ['TA3', 'TA4', 'TA6', 'TA8B', 'TA9B', 'TA10B', 'CS4', 'CS5', 'CS6', 'CS7', 'CS8', 'CS9', 'CS10', 'CS11', 'CS13', 'TA5']]"
   ]
  },
  {
   "cell_type": "code",
   "execution_count": 6,
   "id": "59263520",
   "metadata": {},
   "outputs": [
    {
     "data": {
      "text/html": [
       "<div>\n",
       "<style scoped>\n",
       "    .dataframe tbody tr th:only-of-type {\n",
       "        vertical-align: middle;\n",
       "    }\n",
       "\n",
       "    .dataframe tbody tr th {\n",
       "        vertical-align: top;\n",
       "    }\n",
       "\n",
       "    .dataframe thead th {\n",
       "        text-align: right;\n",
       "    }\n",
       "</style>\n",
       "<table border=\"1\" class=\"dataframe\">\n",
       "  <thead>\n",
       "    <tr style=\"text-align: right;\">\n",
       "      <th></th>\n",
       "      <th>TA3</th>\n",
       "      <th>TA4</th>\n",
       "      <th>TA6</th>\n",
       "      <th>TA8B</th>\n",
       "      <th>TA9B</th>\n",
       "      <th>TA10B</th>\n",
       "      <th>CS4</th>\n",
       "      <th>CS5</th>\n",
       "      <th>CS6</th>\n",
       "      <th>CS7</th>\n",
       "      <th>CS8</th>\n",
       "      <th>CS9</th>\n",
       "      <th>CS10</th>\n",
       "      <th>CS11</th>\n",
       "      <th>CS13</th>\n",
       "      <th>TA5</th>\n",
       "    </tr>\n",
       "  </thead>\n",
       "  <tbody>\n",
       "    <tr>\n",
       "      <th>0</th>\n",
       "      <td></td>\n",
       "      <td></td>\n",
       "      <td></td>\n",
       "      <td></td>\n",
       "      <td></td>\n",
       "      <td></td>\n",
       "      <td></td>\n",
       "      <td></td>\n",
       "      <td></td>\n",
       "      <td></td>\n",
       "      <td></td>\n",
       "      <td></td>\n",
       "      <td></td>\n",
       "      <td></td>\n",
       "      <td></td>\n",
       "      <td></td>\n",
       "    </tr>\n",
       "    <tr>\n",
       "      <th>1</th>\n",
       "      <td></td>\n",
       "      <td></td>\n",
       "      <td></td>\n",
       "      <td></td>\n",
       "      <td></td>\n",
       "      <td></td>\n",
       "      <td></td>\n",
       "      <td></td>\n",
       "      <td></td>\n",
       "      <td></td>\n",
       "      <td></td>\n",
       "      <td></td>\n",
       "      <td></td>\n",
       "      <td></td>\n",
       "      <td></td>\n",
       "      <td></td>\n",
       "    </tr>\n",
       "    <tr>\n",
       "      <th>2</th>\n",
       "      <td></td>\n",
       "      <td></td>\n",
       "      <td></td>\n",
       "      <td></td>\n",
       "      <td></td>\n",
       "      <td></td>\n",
       "      <td></td>\n",
       "      <td></td>\n",
       "      <td></td>\n",
       "      <td></td>\n",
       "      <td></td>\n",
       "      <td></td>\n",
       "      <td></td>\n",
       "      <td></td>\n",
       "      <td></td>\n",
       "      <td></td>\n",
       "    </tr>\n",
       "    <tr>\n",
       "      <th>3</th>\n",
       "      <td></td>\n",
       "      <td></td>\n",
       "      <td></td>\n",
       "      <td></td>\n",
       "      <td></td>\n",
       "      <td></td>\n",
       "      <td>4</td>\n",
       "      <td>3</td>\n",
       "      <td>6</td>\n",
       "      <td></td>\n",
       "      <td>11</td>\n",
       "      <td>0</td>\n",
       "      <td>6</td>\n",
       "      <td>2</td>\n",
       "      <td>2</td>\n",
       "      <td></td>\n",
       "    </tr>\n",
       "    <tr>\n",
       "      <th>4</th>\n",
       "      <td></td>\n",
       "      <td></td>\n",
       "      <td></td>\n",
       "      <td></td>\n",
       "      <td></td>\n",
       "      <td></td>\n",
       "      <td></td>\n",
       "      <td></td>\n",
       "      <td></td>\n",
       "      <td></td>\n",
       "      <td></td>\n",
       "      <td></td>\n",
       "      <td></td>\n",
       "      <td></td>\n",
       "      <td></td>\n",
       "      <td></td>\n",
       "    </tr>\n",
       "  </tbody>\n",
       "</table>\n",
       "</div>"
      ],
      "text/plain": [
       "  TA3 TA4 TA6 TA8B TA9B TA10B CS4 CS5 CS6 CS7 CS8 CS9 CS10 CS11 CS13 TA5\n",
       "0                                                                       \n",
       "1                                                                       \n",
       "2                                                                       \n",
       "3                               4   3   6      11   0    6    2    2    \n",
       "4                                                                       "
      ]
     },
     "execution_count": 6,
     "metadata": {},
     "output_type": "execute_result"
    }
   ],
   "source": [
    "data.head()"
   ]
  },
  {
   "cell_type": "code",
   "execution_count": 7,
   "id": "4bbf68b9",
   "metadata": {},
   "outputs": [
    {
     "data": {
      "text/html": [
       "<div>\n",
       "<style scoped>\n",
       "    .dataframe tbody tr th:only-of-type {\n",
       "        vertical-align: middle;\n",
       "    }\n",
       "\n",
       "    .dataframe tbody tr th {\n",
       "        vertical-align: top;\n",
       "    }\n",
       "\n",
       "    .dataframe thead th {\n",
       "        text-align: right;\n",
       "    }\n",
       "</style>\n",
       "<table border=\"1\" class=\"dataframe\">\n",
       "  <thead>\n",
       "    <tr style=\"text-align: right;\">\n",
       "      <th></th>\n",
       "      <th>TA3</th>\n",
       "      <th>TA4</th>\n",
       "      <th>TA6</th>\n",
       "      <th>TA8B</th>\n",
       "      <th>TA9B</th>\n",
       "      <th>TA10B</th>\n",
       "      <th>CS4</th>\n",
       "      <th>CS5</th>\n",
       "      <th>CS6</th>\n",
       "      <th>CS7</th>\n",
       "      <th>CS8</th>\n",
       "      <th>CS9</th>\n",
       "      <th>CS10</th>\n",
       "      <th>CS11</th>\n",
       "      <th>CS13</th>\n",
       "      <th>TA5</th>\n",
       "    </tr>\n",
       "  </thead>\n",
       "  <tbody>\n",
       "    <tr>\n",
       "      <th>count</th>\n",
       "      <td>204569</td>\n",
       "      <td>204569</td>\n",
       "      <td>204569</td>\n",
       "      <td>204569</td>\n",
       "      <td>204569</td>\n",
       "      <td>204569</td>\n",
       "      <td>204569</td>\n",
       "      <td>204569</td>\n",
       "      <td>204569</td>\n",
       "      <td>204569</td>\n",
       "      <td>204569</td>\n",
       "      <td>204569</td>\n",
       "      <td>204569</td>\n",
       "      <td>204569</td>\n",
       "      <td>204569</td>\n",
       "      <td>204569</td>\n",
       "    </tr>\n",
       "    <tr>\n",
       "      <th>unique</th>\n",
       "      <td>4</td>\n",
       "      <td>11</td>\n",
       "      <td>4</td>\n",
       "      <td>6</td>\n",
       "      <td>5</td>\n",
       "      <td>4</td>\n",
       "      <td>14</td>\n",
       "      <td>69</td>\n",
       "      <td>18</td>\n",
       "      <td>13</td>\n",
       "      <td>15</td>\n",
       "      <td>16</td>\n",
       "      <td>72</td>\n",
       "      <td>56</td>\n",
       "      <td>32</td>\n",
       "      <td>3</td>\n",
       "    </tr>\n",
       "    <tr>\n",
       "      <th>top</th>\n",
       "      <td></td>\n",
       "      <td></td>\n",
       "      <td></td>\n",
       "      <td></td>\n",
       "      <td></td>\n",
       "      <td></td>\n",
       "      <td></td>\n",
       "      <td></td>\n",
       "      <td></td>\n",
       "      <td></td>\n",
       "      <td></td>\n",
       "      <td></td>\n",
       "      <td></td>\n",
       "      <td></td>\n",
       "      <td></td>\n",
       "      <td></td>\n",
       "    </tr>\n",
       "    <tr>\n",
       "      <th>freq</th>\n",
       "      <td>192421</td>\n",
       "      <td>192581</td>\n",
       "      <td>192609</td>\n",
       "      <td>192712</td>\n",
       "      <td>192763</td>\n",
       "      <td>192832</td>\n",
       "      <td>149961</td>\n",
       "      <td>150160</td>\n",
       "      <td>149962</td>\n",
       "      <td>193352</td>\n",
       "      <td>156856</td>\n",
       "      <td>157524</td>\n",
       "      <td>157210</td>\n",
       "      <td>157587</td>\n",
       "      <td>158003</td>\n",
       "      <td>192596</td>\n",
       "    </tr>\n",
       "  </tbody>\n",
       "</table>\n",
       "</div>"
      ],
      "text/plain": [
       "           TA3     TA4     TA6    TA8B    TA9B   TA10B     CS4     CS5  \\\n",
       "count   204569  204569  204569  204569  204569  204569  204569  204569   \n",
       "unique       4      11       4       6       5       4      14      69   \n",
       "top                                                                      \n",
       "freq    192421  192581  192609  192712  192763  192832  149961  150160   \n",
       "\n",
       "           CS6     CS7     CS8     CS9    CS10    CS11    CS13     TA5  \n",
       "count   204569  204569  204569  204569  204569  204569  204569  204569  \n",
       "unique      18      13      15      16      72      56      32       3  \n",
       "top                                                                     \n",
       "freq    149962  193352  156856  157524  157210  157587  158003  192596  "
      ]
     },
     "execution_count": 7,
     "metadata": {},
     "output_type": "execute_result"
    }
   ],
   "source": [
    "data.describe()"
   ]
  },
  {
   "cell_type": "code",
   "execution_count": 8,
   "id": "073a1f16",
   "metadata": {},
   "outputs": [],
   "source": [
    "data=data[(data['TA3']!=' ') & (data['TA3']!='0') &(data['TA5']!=' ')]"
   ]
  },
  {
   "cell_type": "code",
   "execution_count": 9,
   "id": "0149fe9e",
   "metadata": {},
   "outputs": [
    {
     "data": {
      "text/html": [
       "<div>\n",
       "<style scoped>\n",
       "    .dataframe tbody tr th:only-of-type {\n",
       "        vertical-align: middle;\n",
       "    }\n",
       "\n",
       "    .dataframe tbody tr th {\n",
       "        vertical-align: top;\n",
       "    }\n",
       "\n",
       "    .dataframe thead th {\n",
       "        text-align: right;\n",
       "    }\n",
       "</style>\n",
       "<table border=\"1\" class=\"dataframe\">\n",
       "  <thead>\n",
       "    <tr style=\"text-align: right;\">\n",
       "      <th></th>\n",
       "      <th>TA3</th>\n",
       "      <th>TA4</th>\n",
       "      <th>TA6</th>\n",
       "      <th>TA8B</th>\n",
       "      <th>TA9B</th>\n",
       "      <th>TA10B</th>\n",
       "      <th>CS4</th>\n",
       "      <th>CS5</th>\n",
       "      <th>CS6</th>\n",
       "      <th>CS7</th>\n",
       "      <th>CS8</th>\n",
       "      <th>CS9</th>\n",
       "      <th>CS10</th>\n",
       "      <th>CS11</th>\n",
       "      <th>CS13</th>\n",
       "      <th>TA5</th>\n",
       "    </tr>\n",
       "  </thead>\n",
       "  <tbody>\n",
       "    <tr>\n",
       "      <th>count</th>\n",
       "      <td>11973</td>\n",
       "      <td>11973</td>\n",
       "      <td>11973</td>\n",
       "      <td>11973</td>\n",
       "      <td>11973</td>\n",
       "      <td>11973</td>\n",
       "      <td>11973</td>\n",
       "      <td>11973</td>\n",
       "      <td>11973</td>\n",
       "      <td>11973</td>\n",
       "      <td>11973</td>\n",
       "      <td>11973</td>\n",
       "      <td>11973</td>\n",
       "      <td>11973</td>\n",
       "      <td>11973</td>\n",
       "      <td>11973</td>\n",
       "    </tr>\n",
       "    <tr>\n",
       "      <th>unique</th>\n",
       "      <td>2</td>\n",
       "      <td>10</td>\n",
       "      <td>4</td>\n",
       "      <td>6</td>\n",
       "      <td>5</td>\n",
       "      <td>4</td>\n",
       "      <td>8</td>\n",
       "      <td>33</td>\n",
       "      <td>14</td>\n",
       "      <td>4</td>\n",
       "      <td>15</td>\n",
       "      <td>14</td>\n",
       "      <td>65</td>\n",
       "      <td>43</td>\n",
       "      <td>31</td>\n",
       "      <td>2</td>\n",
       "    </tr>\n",
       "    <tr>\n",
       "      <th>top</th>\n",
       "      <td>1</td>\n",
       "      <td>4</td>\n",
       "      <td>1</td>\n",
       "      <td>4</td>\n",
       "      <td>1</td>\n",
       "      <td>2</td>\n",
       "      <td>2</td>\n",
       "      <td>1</td>\n",
       "      <td>4</td>\n",
       "      <td></td>\n",
       "      <td>1</td>\n",
       "      <td>1</td>\n",
       "      <td>36</td>\n",
       "      <td>6</td>\n",
       "      <td>0</td>\n",
       "      <td>1</td>\n",
       "    </tr>\n",
       "    <tr>\n",
       "      <th>freq</th>\n",
       "      <td>11912</td>\n",
       "      <td>2649</td>\n",
       "      <td>9943</td>\n",
       "      <td>4208</td>\n",
       "      <td>4247</td>\n",
       "      <td>4479</td>\n",
       "      <td>6938</td>\n",
       "      <td>8908</td>\n",
       "      <td>2601</td>\n",
       "      <td>11966</td>\n",
       "      <td>5614</td>\n",
       "      <td>4872</td>\n",
       "      <td>5132</td>\n",
       "      <td>2492</td>\n",
       "      <td>3613</td>\n",
       "      <td>11642</td>\n",
       "    </tr>\n",
       "  </tbody>\n",
       "</table>\n",
       "</div>"
      ],
      "text/plain": [
       "          TA3    TA4    TA6   TA8B   TA9B  TA10B    CS4    CS5    CS6    CS7  \\\n",
       "count   11973  11973  11973  11973  11973  11973  11973  11973  11973  11973   \n",
       "unique      2     10      4      6      5      4      8     33     14      4   \n",
       "top         1      4      1      4      1      2      2      1      4          \n",
       "freq    11912   2649   9943   4208   4247   4479   6938   8908   2601  11966   \n",
       "\n",
       "          CS8    CS9   CS10   CS11   CS13    TA5  \n",
       "count   11973  11973  11973  11973  11973  11973  \n",
       "unique     15     14     65     43     31      2  \n",
       "top         1      1     36      6      0      1  \n",
       "freq     5614   4872   5132   2492   3613  11642  "
      ]
     },
     "execution_count": 9,
     "metadata": {},
     "output_type": "execute_result"
    }
   ],
   "source": [
    "data.describe()"
   ]
  },
  {
   "cell_type": "code",
   "execution_count": 10,
   "id": "6ecad234",
   "metadata": {},
   "outputs": [],
   "source": [
    "data=data.replace(' ', '-1')"
   ]
  },
  {
   "cell_type": "code",
   "execution_count": 11,
   "id": "993544de",
   "metadata": {
    "scrolled": true
   },
   "outputs": [
    {
     "data": {
      "text/html": [
       "<div>\n",
       "<style scoped>\n",
       "    .dataframe tbody tr th:only-of-type {\n",
       "        vertical-align: middle;\n",
       "    }\n",
       "\n",
       "    .dataframe tbody tr th {\n",
       "        vertical-align: top;\n",
       "    }\n",
       "\n",
       "    .dataframe thead th {\n",
       "        text-align: right;\n",
       "    }\n",
       "</style>\n",
       "<table border=\"1\" class=\"dataframe\">\n",
       "  <thead>\n",
       "    <tr style=\"text-align: right;\">\n",
       "      <th></th>\n",
       "      <th>TA3</th>\n",
       "      <th>TA4</th>\n",
       "      <th>TA6</th>\n",
       "      <th>TA8B</th>\n",
       "      <th>TA9B</th>\n",
       "      <th>TA10B</th>\n",
       "      <th>CS4</th>\n",
       "      <th>CS5</th>\n",
       "      <th>CS6</th>\n",
       "      <th>CS7</th>\n",
       "      <th>CS8</th>\n",
       "      <th>CS9</th>\n",
       "      <th>CS10</th>\n",
       "      <th>CS11</th>\n",
       "      <th>CS13</th>\n",
       "      <th>TA5</th>\n",
       "    </tr>\n",
       "  </thead>\n",
       "  <tbody>\n",
       "    <tr>\n",
       "      <th>count</th>\n",
       "      <td>11973</td>\n",
       "      <td>11973</td>\n",
       "      <td>11973</td>\n",
       "      <td>11973</td>\n",
       "      <td>11973</td>\n",
       "      <td>11973</td>\n",
       "      <td>11973</td>\n",
       "      <td>11973</td>\n",
       "      <td>11973</td>\n",
       "      <td>11973</td>\n",
       "      <td>11973</td>\n",
       "      <td>11973</td>\n",
       "      <td>11973</td>\n",
       "      <td>11973</td>\n",
       "      <td>11973</td>\n",
       "      <td>11973</td>\n",
       "    </tr>\n",
       "    <tr>\n",
       "      <th>unique</th>\n",
       "      <td>2</td>\n",
       "      <td>10</td>\n",
       "      <td>4</td>\n",
       "      <td>6</td>\n",
       "      <td>5</td>\n",
       "      <td>4</td>\n",
       "      <td>8</td>\n",
       "      <td>33</td>\n",
       "      <td>14</td>\n",
       "      <td>4</td>\n",
       "      <td>15</td>\n",
       "      <td>14</td>\n",
       "      <td>65</td>\n",
       "      <td>43</td>\n",
       "      <td>31</td>\n",
       "      <td>2</td>\n",
       "    </tr>\n",
       "    <tr>\n",
       "      <th>top</th>\n",
       "      <td>1</td>\n",
       "      <td>4</td>\n",
       "      <td>1</td>\n",
       "      <td>4</td>\n",
       "      <td>1</td>\n",
       "      <td>2</td>\n",
       "      <td>2</td>\n",
       "      <td>1</td>\n",
       "      <td>4</td>\n",
       "      <td>-1</td>\n",
       "      <td>1</td>\n",
       "      <td>1</td>\n",
       "      <td>36</td>\n",
       "      <td>6</td>\n",
       "      <td>0</td>\n",
       "      <td>1</td>\n",
       "    </tr>\n",
       "    <tr>\n",
       "      <th>freq</th>\n",
       "      <td>11912</td>\n",
       "      <td>2649</td>\n",
       "      <td>9943</td>\n",
       "      <td>4208</td>\n",
       "      <td>4247</td>\n",
       "      <td>4479</td>\n",
       "      <td>6938</td>\n",
       "      <td>8908</td>\n",
       "      <td>2601</td>\n",
       "      <td>11966</td>\n",
       "      <td>5614</td>\n",
       "      <td>4872</td>\n",
       "      <td>5132</td>\n",
       "      <td>2492</td>\n",
       "      <td>3613</td>\n",
       "      <td>11642</td>\n",
       "    </tr>\n",
       "  </tbody>\n",
       "</table>\n",
       "</div>"
      ],
      "text/plain": [
       "          TA3    TA4    TA6   TA8B   TA9B  TA10B    CS4    CS5    CS6    CS7  \\\n",
       "count   11973  11973  11973  11973  11973  11973  11973  11973  11973  11973   \n",
       "unique      2     10      4      6      5      4      8     33     14      4   \n",
       "top         1      4      1      4      1      2      2      1      4     -1   \n",
       "freq    11912   2649   9943   4208   4247   4479   6938   8908   2601  11966   \n",
       "\n",
       "          CS8    CS9   CS10   CS11   CS13    TA5  \n",
       "count   11973  11973  11973  11973  11973  11973  \n",
       "unique     15     14     65     43     31      2  \n",
       "top         1      1     36      6      0      1  \n",
       "freq     5614   4872   5132   2492   3613  11642  "
      ]
     },
     "execution_count": 11,
     "metadata": {},
     "output_type": "execute_result"
    }
   ],
   "source": [
    "data.describe()"
   ]
  },
  {
   "cell_type": "code",
   "execution_count": 12,
   "id": "f41c2056",
   "metadata": {},
   "outputs": [],
   "source": [
    "data=data.astype(float)"
   ]
  },
  {
   "cell_type": "code",
   "execution_count": 13,
   "id": "6bc07c5f",
   "metadata": {
    "scrolled": true
   },
   "outputs": [
    {
     "name": "stdout",
     "output_type": "stream",
     "text": [
      "<class 'pandas.core.frame.DataFrame'>\n",
      "Int64Index: 11973 entries, 18 to 204560\n",
      "Data columns (total 16 columns):\n",
      " #   Column  Non-Null Count  Dtype  \n",
      "---  ------  --------------  -----  \n",
      " 0   TA3     11973 non-null  float64\n",
      " 1   TA4     11973 non-null  float64\n",
      " 2   TA6     11973 non-null  float64\n",
      " 3   TA8B    11973 non-null  float64\n",
      " 4   TA9B    11973 non-null  float64\n",
      " 5   TA10B   11973 non-null  float64\n",
      " 6   CS4     11973 non-null  float64\n",
      " 7   CS5     11973 non-null  float64\n",
      " 8   CS6     11973 non-null  float64\n",
      " 9   CS7     11973 non-null  float64\n",
      " 10  CS8     11973 non-null  float64\n",
      " 11  CS9     11973 non-null  float64\n",
      " 12  CS10    11973 non-null  float64\n",
      " 13  CS11    11973 non-null  float64\n",
      " 14  CS13    11973 non-null  float64\n",
      " 15  TA5     11973 non-null  float64\n",
      "dtypes: float64(16)\n",
      "memory usage: 1.6 MB\n"
     ]
    }
   ],
   "source": [
    "data.info()"
   ]
  },
  {
   "cell_type": "code",
   "execution_count": 14,
   "id": "a0afd056",
   "metadata": {},
   "outputs": [],
   "source": [
    "from sklearn.model_selection import train_test_split\n",
    "X=data.drop(['TA5'], axis=1)\n",
    "y=data['TA5']\n",
    "\n",
    "X_train, X_test, y_train, y_test = train_test_split(X, y, test_size=0.3,  random_state=2022, stratify=y)"
   ]
  },
  {
   "cell_type": "code",
   "execution_count": 15,
   "id": "b970f628",
   "metadata": {},
   "outputs": [
    {
     "name": "stdout",
     "output_type": "stream",
     "text": [
      "X_train: (8381, 15)\n",
      "X_test: (3592, 15)\n",
      "y_train: (8381,)\n",
      "y_test: (3592,)\n"
     ]
    }
   ],
   "source": [
    "print(\"X_train:\", X_train.shape) # X_train\n",
    "print(\"X_test:\", X_test.shape) # X_test\n",
    "print(\"y_train:\", y_train.shape) # y_train\n",
    "print(\"y_test:\", y_test.shape) # y_test\n"
   ]
  },
  {
   "cell_type": "code",
   "execution_count": 16,
   "id": "f33ae772",
   "metadata": {},
   "outputs": [],
   "source": [
    "from sklearn.preprocessing import StandardScaler\n",
    "\n",
    "scaler = StandardScaler()\n",
    "X_train = scaler.fit_transform(X_train)\n",
    "X_test = scaler.transform(X_test)\n"
   ]
  },
  {
   "cell_type": "markdown",
   "id": "a2eec913",
   "metadata": {},
   "source": [
    "# Logistic Regression"
   ]
  },
  {
   "cell_type": "code",
   "execution_count": 17,
   "id": "6e7d1398",
   "metadata": {},
   "outputs": [],
   "source": [
    "from sklearn.linear_model import LogisticRegression\n",
    "\n",
    "classifier= LogisticRegression(random_state=2021)\n",
    "classifier.fit(X_train, y_train)\n",
    "y_pred=classifier.predict(X_test)"
   ]
  },
  {
   "cell_type": "code",
   "execution_count": 18,
   "id": "1c97f090",
   "metadata": {},
   "outputs": [
    {
     "data": {
      "image/png": "[encoded data removed]",
      "text/plain": [
       "<Figure size 640x480 with 2 Axes>"
      ]
     },
     "metadata": {},
     "output_type": "display_data"
    }
   ],
   "source": [
    "from sklearn.metrics import confusion_matrix, plot_confusion_matrix, ConfusionMatrixDisplay, classification_report, accuracy_score, roc_auc_score, roc_curve, f1_score\n",
    "\n",
    "c_matrix=confusion_matrix(y_test, y_pred)\n",
    "c_matrix_dis = ConfusionMatrixDisplay(confusion_matrix=c_matrix, display_labels=[False, True])\n",
    "c_matrix_dis.plot()\n",
    "plt.show()"
   ]
  },
  {
   "cell_type": "code",
   "execution_count": 19,
   "id": "81ef9b81",
   "metadata": {},
   "outputs": [
    {
     "name": "stdout",
     "output_type": "stream",
     "text": [
      "              precision    recall  f1-score   support\n",
      "\n",
      "         0.0       0.69      0.11      0.19        99\n",
      "         1.0       0.98      1.00      0.99      3493\n",
      "\n",
      "    accuracy                           0.97      3592\n",
      "   macro avg       0.83      0.55      0.59      3592\n",
      "weighted avg       0.97      0.97      0.96      3592\n",
      "\n",
      "0.9868439666147971\n"
     ]
    }
   ],
   "source": [
    "cl_report = classification_report(y_test, y_pred)\n",
    "print(cl_report)\n",
    "print(f1_score(y_test, y_pred))\n"
   ]
  },
  {
   "cell_type": "code",
   "execution_count": 20,
   "id": "d0f0718a",
   "metadata": {},
   "outputs": [
    {
     "data": {
      "text/plain": [
       "0.9741091314031181"
      ]
     },
     "execution_count": 20,
     "metadata": {},
     "output_type": "execute_result"
    }
   ],
   "source": [
    "accuracy_score(y_test, y_pred)"
   ]
  },
  {
   "cell_type": "code",
   "execution_count": 21,
   "id": "75fb0c13",
   "metadata": {},
   "outputs": [
    {
     "data": {
      "text/plain": [
       "0.808378662086077"
      ]
     },
     "execution_count": 21,
     "metadata": {},
     "output_type": "execute_result"
    }
   ],
   "source": [
    "y_prob = classifier.predict_proba(X_test)\n",
    "roc_auc_score(y_test, y_prob[:, 1])"
   ]
  },
  {
   "cell_type": "code",
   "execution_count": 22,
   "id": "180e27b7",
   "metadata": {},
   "outputs": [
    {
     "data": {
      "text/plain": [
       "[<matplotlib.lines.Line2D at 0x14283873760>]"
      ]
     },
     "execution_count": 22,
     "metadata": {},
     "output_type": "execute_result"
    },
    {
     "data": {
      "image/png": "[encoded data removed]",
      "text/plain": [
       "<Figure size 640x480 with 1 Axes>"
      ]
     },
     "metadata": {},
     "output_type": "display_data"
    }
   ],
   "source": [
    "fpr, tpr, thresh = roc_curve(y_test, y_prob[:, 1])\n",
    "plt.xlabel('False Positive Rate')\n",
    "plt.ylabel('True Positive Rate')\n",
    "plt.title('ROC curve')\n",
    "plt.plot(fpr, tpr)\n"
   ]
  },
  {
   "cell_type": "code",
   "execution_count": 23,
   "id": "77d97d87",
   "metadata": {},
   "outputs": [
    {
     "name": "stdout",
     "output_type": "stream",
     "text": [
      "Cross-Validation Accuracy Scores [0.97257007 0.97315036 0.97434368 0.97315036 0.97315036]\n",
      "0.9725700655933214 0.9732729629993326 0.9743436754176611\n"
     ]
    }
   ],
   "source": [
    "## cv=5\n",
    "from sklearn.model_selection import cross_val_score\n",
    "\n",
    "scores = cross_val_score(classifier, X_train, y_train, cv=5)\n",
    "print('Cross-Validation Accuracy Scores', scores)\n",
    "scores = pd.Series(scores)\n",
    "print(scores.min(), scores.mean(), scores.max())\n"
   ]
  },
  {
   "cell_type": "markdown",
   "id": "566a02a8",
   "metadata": {},
   "source": [
    "# SVM"
   ]
  },
  {
   "cell_type": "code",
   "execution_count": 24,
   "id": "fa782913",
   "metadata": {},
   "outputs": [],
   "source": [
    "from sklearn.svm import SVC\n",
    "\n",
    "svmclass = SVC(random_state=2022, C=5, gamma='scale', kernel='rbf', probability=True)\n",
    "svmclass.fit(X_train, y_train)\n",
    "y_pred2 = svmclass.predict(X_test)\n",
    "y_prob2 = svmclass.predict_proba(X_test)\n"
   ]
  },
  {
   "cell_type": "code",
   "execution_count": 25,
   "id": "804946c0",
   "metadata": {},
   "outputs": [
    {
     "data": {
      "image/png": "[encoded data removed]",
      "text/plain": [
       "<Figure size 640x480 with 2 Axes>"
      ]
     },
     "metadata": {},
     "output_type": "display_data"
    }
   ],
   "source": [
    "c_matrix=confusion_matrix(y_test, y_pred2)\n",
    "c_matrix_dis = ConfusionMatrixDisplay(confusion_matrix=c_matrix, display_labels=[False, True])\n",
    "c_matrix_dis.plot()\n",
    "plt.show()\n"
   ]
  },
  {
   "cell_type": "code",
   "execution_count": 26,
   "id": "7ea68ac2",
   "metadata": {},
   "outputs": [
    {
     "name": "stdout",
     "output_type": "stream",
     "text": [
      "              precision    recall  f1-score   support\n",
      "\n",
      "         0.0       0.70      0.14      0.24        99\n",
      "         1.0       0.98      1.00      0.99      3493\n",
      "\n",
      "    accuracy                           0.97      3592\n",
      "   macro avg       0.84      0.57      0.61      3592\n",
      "weighted avg       0.97      0.97      0.97      3592\n",
      "\n"
     ]
    }
   ],
   "source": [
    "cl_report = classification_report(y_test, y_pred2)\n",
    "print(cl_report) "
   ]
  },
  {
   "cell_type": "code",
   "execution_count": 27,
   "id": "d1fc6d4d",
   "metadata": {},
   "outputs": [
    {
     "data": {
      "text/plain": [
       "0.9746659242761693"
      ]
     },
     "execution_count": 27,
     "metadata": {},
     "output_type": "execute_result"
    }
   ],
   "source": [
    "accuracy_score(y_test, y_pred2)\n"
   ]
  },
  {
   "cell_type": "code",
   "execution_count": 28,
   "id": "69d14130",
   "metadata": {},
   "outputs": [
    {
     "data": {
      "text/plain": [
       "0.6054215212531846"
      ]
     },
     "execution_count": 28,
     "metadata": {},
     "output_type": "execute_result"
    }
   ],
   "source": [
    "roc_auc_score(y_test, y_prob2[:, 1])"
   ]
  },
  {
   "cell_type": "code",
   "execution_count": 29,
   "id": "48fc26db",
   "metadata": {},
   "outputs": [
    {
     "data": {
      "text/plain": [
       "[<matplotlib.lines.Line2D at 0x1428398fa00>]"
      ]
     },
     "execution_count": 29,
     "metadata": {},
     "output_type": "execute_result"
    },
    {
     "data": {
      "image/png": "[encoded data removed]",
      "text/plain": [
       "<Figure size 640x480 with 1 Axes>"
      ]
     },
     "metadata": {},
     "output_type": "display_data"
    }
   ],
   "source": [
    "fpr, tpr, thresh = roc_curve(y_test, y_prob2[:, 1])\n",
    "plt.xlabel('False Positive Rate')\n",
    "plt.ylabel('True Positive Rate')\n",
    "plt.title('ROC curve')\n",
    "plt.plot(fpr, tpr)"
   ]
  },
  {
   "cell_type": "code",
   "execution_count": 30,
   "id": "2d629190",
   "metadata": {},
   "outputs": [
    {
     "name": "stdout",
     "output_type": "stream",
     "text": [
      "Cross-Validation Accuracy Scores [0.97257007 0.97315036 0.97315036 0.97136038 0.9725537 ]\n",
      "0.9713603818615751 0.9725569725458719 0.9731503579952268\n"
     ]
    }
   ],
   "source": [
    "scores = cross_val_score(svmclass, X_train, y_train, cv=5)\n",
    "print('Cross-Validation Accuracy Scores', scores)\n",
    "scores = pd.Series(scores)\n",
    "print(scores.min(), scores.mean(), scores.max())\n",
    "\n"
   ]
  },
  {
   "cell_type": "markdown",
   "id": "cc75da5d",
   "metadata": {},
   "source": [
    "# Random Forest"
   ]
  },
  {
   "cell_type": "code",
   "execution_count": 31,
   "id": "fa56c581",
   "metadata": {},
   "outputs": [],
   "source": [
    "from sklearn.ensemble import RandomForestClassifier\n",
    "\n",
    "rf = RandomForestClassifier()\n",
    "rf.fit(X_train, y_train)\n",
    "y_pred3 = rf.predict(X_test)\n",
    "y_prob3 = rf.predict_proba(X_test)"
   ]
  },
  {
   "cell_type": "code",
   "execution_count": 32,
   "id": "5c7f1ae1",
   "metadata": {},
   "outputs": [
    {
     "data": {
      "image/png": "[encoded data removed]",
      "text/plain": [
       "<Figure size 640x480 with 2 Axes>"
      ]
     },
     "metadata": {},
     "output_type": "display_data"
    }
   ],
   "source": [
    "c_matrix=confusion_matrix(y_test, y_pred3)\n",
    "c_matrix_dis = ConfusionMatrixDisplay(confusion_matrix=c_matrix, display_labels=[False, True])\n",
    "c_matrix_dis.plot()\n",
    "plt.show()\n"
   ]
  },
  {
   "cell_type": "code",
   "execution_count": 33,
   "id": "58ab277f",
   "metadata": {},
   "outputs": [
    {
     "name": "stdout",
     "output_type": "stream",
     "text": [
      "              precision    recall  f1-score   support\n",
      "\n",
      "         0.0       0.60      0.15      0.24        99\n",
      "         1.0       0.98      1.00      0.99      3493\n",
      "\n",
      "    accuracy                           0.97      3592\n",
      "   macro avg       0.79      0.57      0.61      3592\n",
      "weighted avg       0.97      0.97      0.97      3592\n",
      "\n",
      "0.986685552407932\n"
     ]
    }
   ],
   "source": [
    "cl_report = classification_report(y_test, y_pred3)\n",
    "print(cl_report) \n",
    "print(f1_score(y_test, y_pred3))"
   ]
  },
  {
   "cell_type": "code",
   "execution_count": 34,
   "id": "f8b4ca1f",
   "metadata": {},
   "outputs": [
    {
     "data": {
      "text/plain": [
       "0.9738307349665924"
      ]
     },
     "execution_count": 34,
     "metadata": {},
     "output_type": "execute_result"
    }
   ],
   "source": [
    "accuracy_score(y_test, y_pred3)\n"
   ]
  },
  {
   "cell_type": "code",
   "execution_count": 35,
   "id": "ceb7fb6c",
   "metadata": {},
   "outputs": [
    {
     "data": {
      "text/plain": [
       "0.7236464270532407"
      ]
     },
     "execution_count": 35,
     "metadata": {},
     "output_type": "execute_result"
    }
   ],
   "source": [
    "roc_auc_score(y_test, y_prob3[:, 1])"
   ]
  },
  {
   "cell_type": "code",
   "execution_count": 36,
   "id": "d5237ed3",
   "metadata": {},
   "outputs": [
    {
     "data": {
      "text/plain": [
       "[<matplotlib.lines.Line2D at 0x14283dd4550>]"
      ]
     },
     "execution_count": 36,
     "metadata": {},
     "output_type": "execute_result"
    },
    {
     "data": {
      "image/png": "[encoded data removed]",
      "text/plain": [
       "<Figure size 640x480 with 1 Axes>"
      ]
     },
     "metadata": {},
     "output_type": "display_data"
    }
   ],
   "source": [
    "fpr, tpr, thresh = roc_curve(y_test, y_prob3[:, 1])\n",
    "plt.xlabel('False Positive Rate')\n",
    "plt.ylabel('True Positive Rate')\n",
    "plt.title('ROC curve')\n",
    "plt.plot(fpr, tpr)"
   ]
  },
  {
   "cell_type": "code",
   "execution_count": null,
   "id": "c2c2aa84",
   "metadata": {},
   "outputs": [],
   "source": []
  }
 ],
 "metadata": {
  "kernelspec": {
   "display_name": "Python 3 (ipykernel)",
   "language": "python",
   "name": "python3"
  },
  "language_info": {
   "codemirror_mode": {
    "name": "ipython",
    "version": 3
   },
   "file_extension": ".py",
   "mimetype": "text/x-python",
   "name": "python",
   "nbconvert_exporter": "python",
   "pygments_lexer": "ipython3",
   "version": "3.9.13"
  }
 },
 "nbformat": 4,
 "nbformat_minor": 5
}
